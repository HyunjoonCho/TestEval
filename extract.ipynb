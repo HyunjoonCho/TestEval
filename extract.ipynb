{
 "cells": [
  {
   "cell_type": "code",
   "execution_count": 27,
   "id": "3d14f390",
   "metadata": {},
   "outputs": [],
   "source": [
    "import json\n",
    "from data_utils import read_jsonl, add_lineno\n",
    "from prompt_utils import generate_path"
   ]
  },
  {
   "cell_type": "code",
   "execution_count": 3,
   "id": "c9879f8c",
   "metadata": {},
   "outputs": [],
   "source": [
    "dataset=read_jsonl('data/leetcode-py.jsonl')"
   ]
  },
  {
   "cell_type": "markdown",
   "id": "21a2e783",
   "metadata": {
    "vscode": {
     "languageId": "plaintext"
    }
   },
   "source": [
    "# Overall Coverage"
   ]
  },
  {
   "cell_type": "code",
   "execution_count": 38,
   "id": "3764c952",
   "metadata": {},
   "outputs": [],
   "source": [
    "prompt_template=open('prompt/template_base.txt').read()\n",
    "system_template=open('prompt/system.txt').read()\n",
    "system_message=system_template.format(lang='python')"
   ]
  },
  {
   "cell_type": "code",
   "execution_count": 39,
   "id": "04584dd7",
   "metadata": {},
   "outputs": [],
   "source": [
    "initial_prompts = dict()\n",
    "\n",
    "for data in dataset:\n",
    "    func_name=data['func_name']\n",
    "    desc=data['description']\n",
    "    code=data['python_solution']\n",
    "    difficulty=data['difficulty']\n",
    "    target_lines=data['target_lines']\n",
    "\n",
    "    prompt=prompt_template.format(lang='python', program=code, description=desc, func_name=func_name)    \n",
    "    concatenated_messages = f\"system: {system_message}\\nuser: {prompt}\"\n",
    "    initial_prompts[data['task_num']] = concatenated_messages"
   ]
  },
  {
   "cell_type": "code",
   "execution_count": 40,
   "id": "18ef2f0f",
   "metadata": {},
   "outputs": [
    {
     "name": "stdout",
     "output_type": "stream",
     "text": [
      "system: You are a professional who writes python test methods. You always respond with a python function without any natural language descriptions. Especially, Your answer should not include any quotation marks or descriptions outside the function definition.\n",
      "\n",
      "user: Please write a test method for the function 'findMedianSortedArrays' given the following program under test and function description. Your answer should only contain one test input.\n",
      "\n",
      "Program under test:\n",
      "----\n",
      "import math\n",
      "import itertools\n",
      "import bisect\n",
      "import collections\n",
      "import string\n",
      "import heapq\n",
      "import functools\n",
      "import sortedcontainers\n",
      "from typing import List, Dict, Tuple, Iterator\n",
      "\n",
      "class Solution:\n",
      "  def findMedianSortedArrays(self, nums1: List[int], nums2: List[int]) -> float:\n",
      "    n1 = len(nums1)\n",
      "    n2 = len(nums2)\n",
      "    if n1 > n2:\n",
      "      return self.findMedianSortedArrays(nums2, nums1)\n",
      "\n",
      "    l = 0\n",
      "    r = n1\n",
      "\n",
      "    while l <= r:\n",
      "      partition1 = (l + r) // 2\n",
      "      partition2 = (n1 + n2 + 1) // 2 - partition1\n",
      "      maxLeft1 = -2**31 if partition1 == 0 else nums1[partition1 - 1]\n",
      "      maxLeft2 = -2**31 if partition2 == 0 else nums2[partition2 - 1]\n",
      "      minRight1 = 2**31 - 1 if partition1 == n1 else nums1[partition1]\n",
      "      minRight2 = 2**31 - 1 if partition2 == n2 else nums2[partition2]\n",
      "      if maxLeft1 <= minRight2 and maxLeft2 <= minRight1:\n",
      "        if (n1 + n2) % 2 == 0:\n",
      "          return (max(maxLeft1, maxLeft2) + min(minRight1, minRight2)) * 0.5\n",
      "        else:\n",
      "          return max(maxLeft1, maxLeft2)\n",
      "      elif maxLeft1 > minRight2:\n",
      "        r = partition1 - 1\n",
      "      else:\n",
      "        l = partition1 + 1\n",
      "\n",
      "----\n",
      "\n",
      "Function description for 'findMedianSortedArrays':\n",
      "----\n",
      "Given two sorted arrays `nums1` and `nums2` of size `m` and `n` respectively,\n",
      "return the median of the two sorted arrays.\n",
      "\n",
      "The overall run time complexity should be `O(log (m+n))`.\n",
      "\n",
      "\n",
      "----\n",
      "\n",
      "Your test method should begin with:\n",
      "def test_findMedianSortedArrays():\n",
      "    solution=Solution()\n",
      "\n"
     ]
    }
   ],
   "source": [
    "print(list(initial_prompts.values())[0])"
   ]
  },
  {
   "cell_type": "code",
   "execution_count": 16,
   "id": "c129d837",
   "metadata": {},
   "outputs": [],
   "source": [
    "with open('totalcov.json', 'w') as f:\n",
    "    json.dump(initial_prompts, f, indent=2)"
   ]
  },
  {
   "cell_type": "markdown",
   "id": "7f9e4d38",
   "metadata": {},
   "source": [
    "# Line Coverage"
   ]
  },
  {
   "cell_type": "code",
   "execution_count": 41,
   "id": "4d1fbd8f",
   "metadata": {},
   "outputs": [],
   "source": [
    "initial_prompts = dict()\n",
    "\n",
    "prompt_template=open('prompt/template_line.txt').read()\n",
    "system_template=open('prompt/system.txt').read()\n",
    "system_message=system_template.format(lang='python')\n",
    "\n",
    "for data in dataset:\n",
    "    func_name=data['func_name']\n",
    "    desc=data['description']\n",
    "    code=data['python_solution']\n",
    "    difficulty=data['difficulty']\n",
    "    code_withlineno=add_lineno(code)\n",
    "\n",
    "    target_lines=data['target_lines']\n",
    "    task_num = data['task_num']\n",
    "\n",
    "    for lineno in target_lines:\n",
    "        code_lines=code.split('\\n')\n",
    "        target_line=code_lines[lineno-1]\n",
    "        target_line_withlineno=f'{lineno}: {target_line}'\n",
    "\n",
    "        code_input=code_withlineno\n",
    "        line_input=target_line_withlineno\n",
    "\n",
    "        prompt=prompt_template.format(lang='python', program=code_input, description=desc, func_name=func_name, lineno=line_input)\n",
    "        initial_prompts[f\"{task_num}_{lineno}\"] = f\"{system_message}\\n{prompt}\""
   ]
  },
  {
   "cell_type": "code",
   "execution_count": 42,
   "id": "6fabf21d",
   "metadata": {},
   "outputs": [
    {
     "name": "stdout",
     "output_type": "stream",
     "text": [
      "You are a professional who writes python test methods. You always respond with a python function without any natural language descriptions. Especially, Your answer should not include any quotation marks or descriptions outside the function definition.\n",
      "\n",
      "Please write a test method for the function 'findMedianSortedArrays' given the following program under test and function description. Your answer should only contain one test input.\n",
      "\n",
      "Program under test:\n",
      "----\n",
      "1. import math\n",
      "2. import itertools\n",
      "3. import bisect\n",
      "4. import collections\n",
      "5. import string\n",
      "6. import heapq\n",
      "7. import functools\n",
      "8. import sortedcontainers\n",
      "9. from typing import List, Dict, Tuple, Iterator\n",
      "10. \n",
      "11. class Solution:\n",
      "12.   def findMedianSortedArrays(self, nums1: List[int], nums2: List[int]) -> float:\n",
      "13.     n1 = len(nums1)\n",
      "14.     n2 = len(nums2)\n",
      "15.     if n1 > n2:\n",
      "16.       return self.findMedianSortedArrays(nums2, nums1)\n",
      "17. \n",
      "18.     l = 0\n",
      "19.     r = n1\n",
      "20. \n",
      "21.     while l <= r:\n",
      "22.       partition1 = (l + r) // 2\n",
      "23.       partition2 = (n1 + n2 + 1) // 2 - partition1\n",
      "24.       maxLeft1 = -2**31 if partition1 == 0 else nums1[partition1 - 1]\n",
      "25.       maxLeft2 = -2**31 if partition2 == 0 else nums2[partition2 - 1]\n",
      "26.       minRight1 = 2**31 - 1 if partition1 == n1 else nums1[partition1]\n",
      "27.       minRight2 = 2**31 - 1 if partition2 == n2 else nums2[partition2]\n",
      "28.       if maxLeft1 <= minRight2 and maxLeft2 <= minRight1:\n",
      "29.         if (n1 + n2) % 2 == 0:\n",
      "30.           return (max(maxLeft1, maxLeft2) + min(minRight1, minRight2)) * 0.5\n",
      "31.         else:\n",
      "32.           return max(maxLeft1, maxLeft2)\n",
      "33.       elif maxLeft1 > minRight2:\n",
      "34.         r = partition1 - 1\n",
      "35.       else:\n",
      "36.         l = partition1 + 1\n",
      "37. \n",
      "\n",
      "----\n",
      "\n",
      "Function description for 'findMedianSortedArrays':\n",
      "----\n",
      "Given two sorted arrays `nums1` and `nums2` of size `m` and `n` respectively,\n",
      "return the median of the two sorted arrays.\n",
      "\n",
      "The overall run time complexity should be `O(log (m+n))`.\n",
      "\n",
      "\n",
      "----\n",
      "\n",
      "Your test case must cover line 16:       return self.findMedianSortedArrays(nums2, nums1).\n",
      "Your test method should begin with:\n",
      "def test_findMedianSortedArrays():\n",
      "    solution=Solution()\n",
      "\n"
     ]
    }
   ],
   "source": [
    "print(list(initial_prompts.values())[0])"
   ]
  },
  {
   "cell_type": "code",
   "execution_count": 22,
   "id": "1b2985b2",
   "metadata": {},
   "outputs": [],
   "source": [
    "with open('linecov.json', 'w') as f:\n",
    "    json.dump(initial_prompts, f, indent=2)"
   ]
  },
  {
   "cell_type": "markdown",
   "id": "51099701",
   "metadata": {},
   "source": [
    "# Branch Coverage"
   ]
  },
  {
   "cell_type": "code",
   "execution_count": 43,
   "id": "f2a8ed68",
   "metadata": {},
   "outputs": [],
   "source": [
    "initial_prompts = dict()\n",
    "\n",
    "prompt_template=open('prompt/template_branch.txt').read()\n",
    "system_template=open('prompt/system.txt').read()\n",
    "system_message=system_template.format(lang='python')\n",
    "\n",
    "for data in dataset:\n",
    "    func_name=data['func_name']\n",
    "    desc=data['description']\n",
    "    code=data['python_solution']\n",
    "    difficulty=data['difficulty']\n",
    "    code_withlineno=add_lineno(code)\n",
    "\n",
    "    target_lines=data['target_lines']\n",
    "    task_num = data['task_num']\n",
    "\n",
    "    branches=data['blocks']\n",
    "    for branch in branches:\n",
    "        startline=branch['start']\n",
    "        endline=branch['end']\n",
    "\n",
    "        code_input=code_withlineno\n",
    "\n",
    "        split_lines=code_withlineno.split('\\n')\n",
    "        target_lines=split_lines[startline-1:endline]\n",
    "        target_branch_withlineno='\\n'.join(target_lines)\n",
    "        branch_input=\"\\n'''\\n\"+target_branch_withlineno+\"\\n'''\"\n",
    "\n",
    "        prompt=prompt_template.format(lang='python', program=code_input, description=desc, func_name=func_name, branch=branch_input)\n",
    "\n",
    "        initial_prompts[f\"{task_num}_{startline}_{endline}\"] = f\"{system_message}\\n{prompt}\""
   ]
  },
  {
   "cell_type": "code",
   "execution_count": 44,
   "id": "0525ff54",
   "metadata": {},
   "outputs": [
    {
     "name": "stdout",
     "output_type": "stream",
     "text": [
      "You are a professional who writes python test methods. You always respond with a python function without any natural language descriptions. Especially, Your answer should not include any quotation marks or descriptions outside the function definition.\n",
      "\n",
      "Please write a test method for the function 'findMedianSortedArrays' given the following program under test and function description. Your answer should only contain one test input.\n",
      "\n",
      "Program under test:\n",
      "----\n",
      "1. import math\n",
      "2. import itertools\n",
      "3. import bisect\n",
      "4. import collections\n",
      "5. import string\n",
      "6. import heapq\n",
      "7. import functools\n",
      "8. import sortedcontainers\n",
      "9. from typing import List, Dict, Tuple, Iterator\n",
      "10. \n",
      "11. class Solution:\n",
      "12.   def findMedianSortedArrays(self, nums1: List[int], nums2: List[int]) -> float:\n",
      "13.     n1 = len(nums1)\n",
      "14.     n2 = len(nums2)\n",
      "15.     if n1 > n2:\n",
      "16.       return self.findMedianSortedArrays(nums2, nums1)\n",
      "17. \n",
      "18.     l = 0\n",
      "19.     r = n1\n",
      "20. \n",
      "21.     while l <= r:\n",
      "22.       partition1 = (l + r) // 2\n",
      "23.       partition2 = (n1 + n2 + 1) // 2 - partition1\n",
      "24.       maxLeft1 = -2**31 if partition1 == 0 else nums1[partition1 - 1]\n",
      "25.       maxLeft2 = -2**31 if partition2 == 0 else nums2[partition2 - 1]\n",
      "26.       minRight1 = 2**31 - 1 if partition1 == n1 else nums1[partition1]\n",
      "27.       minRight2 = 2**31 - 1 if partition2 == n2 else nums2[partition2]\n",
      "28.       if maxLeft1 <= minRight2 and maxLeft2 <= minRight1:\n",
      "29.         if (n1 + n2) % 2 == 0:\n",
      "30.           return (max(maxLeft1, maxLeft2) + min(minRight1, minRight2)) * 0.5\n",
      "31.         else:\n",
      "32.           return max(maxLeft1, maxLeft2)\n",
      "33.       elif maxLeft1 > minRight2:\n",
      "34.         r = partition1 - 1\n",
      "35.       else:\n",
      "36.         l = partition1 + 1\n",
      "37. \n",
      "\n",
      "----\n",
      "\n",
      "Function description for 'findMedianSortedArrays':\n",
      "----\n",
      "Given two sorted arrays `nums1` and `nums2` of size `m` and `n` respectively,\n",
      "return the median of the two sorted arrays.\n",
      "\n",
      "The overall run time complexity should be `O(log (m+n))`.\n",
      "\n",
      "\n",
      "----\n",
      "Your test case must cover the branch \n",
      "'''\n",
      "15.     if n1 > n2:\n",
      "16.       return self.findMedianSortedArrays(nums2, nums1)\n",
      "'''\n",
      "Your test method should begin with:\n",
      "def test_findMedianSortedArrays():\n",
      "    solution=Solution()\n",
      "\n"
     ]
    }
   ],
   "source": [
    "print(list(initial_prompts.values())[0])"
   ]
  },
  {
   "cell_type": "code",
   "execution_count": 25,
   "id": "c9857156",
   "metadata": {},
   "outputs": [],
   "source": [
    "with open('branchcov.json', 'w') as f:\n",
    "    json.dump(initial_prompts, f, indent=2)"
   ]
  },
  {
   "cell_type": "markdown",
   "id": "9cd0f88a",
   "metadata": {},
   "source": [
    "# Path Coverage"
   ]
  },
  {
   "cell_type": "code",
   "execution_count": 45,
   "id": "c47d1e1d",
   "metadata": {},
   "outputs": [],
   "source": [
    "initial_prompts = dict()\n",
    "\n",
    "prompt_template=open('prompt/template_path.txt').read()\n",
    "system_template=open('prompt/system.txt').read()\n",
    "system_message=system_template.format(lang='python')\n",
    "dataset=read_jsonl('data/leetcode-py-instrumented.jsonl')\n",
    "path_dataset=read_jsonl('data/tgt_paths.jsonl')\n",
    "\n",
    "for i, data in enumerate(dataset):\n",
    "    task_num = data['task_num']\n",
    "    func_name=data['func_name']\n",
    "    desc=data['description']\n",
    "    code=data['python_solution']\n",
    "    difficulty=data['difficulty']\n",
    "    code_withlineno=add_lineno(code)\n",
    "\n",
    "    log_paths=path_dataset[i]['sampled_paths']\n",
    "    condition_paths=path_dataset[i]['sampled_condition_paths']\n",
    "    generated_path_tests=[]\n",
    "    for j in range(len(log_paths)):\n",
    "        log_path=log_paths[j]\n",
    "        condition_path=condition_paths[j]\n",
    "        #print(log_path, condition_path)\n",
    "        path_prompt=generate_path(condition_path)\n",
    "\n",
    "        prompt=prompt_template.format(func_name=func_name, description=desc, program=code_withlineno, path=path_prompt)\n",
    "\n",
    "        initial_prompts[f\"{task_num}_{j}\"] = f\"{system_message}\\n{prompt}\""
   ]
  },
  {
   "cell_type": "code",
   "execution_count": 37,
   "id": "2ce3e628",
   "metadata": {},
   "outputs": [
    {
     "name": "stdout",
     "output_type": "stream",
     "text": [
      "You are a professional who writes python test methods. You always respond with a python function without any natural language descriptions. Especially, Your answer should not include any quotation marks or descriptions outside the function definition.\n",
      "\n",
      "Please write a test method for the function 'findMedianSortedArrays' given the following program under test and function description. Your answer should only contain one test input.\n",
      "\n",
      "Program under test:\n",
      "----\n",
      "1. import math\n",
      "2. import itertools\n",
      "3. import bisect\n",
      "4. import collections\n",
      "5. import string\n",
      "6. import heapq\n",
      "7. import functools\n",
      "8. import sortedcontainers\n",
      "9. from typing import List, Dict, Tuple, Iterator\n",
      "10. \n",
      "11. class Solution:\n",
      "12.   def findMedianSortedArrays(self, nums1: List[int], nums2: List[int]) -> float:\n",
      "13.     n1 = len(nums1)\n",
      "14.     n2 = len(nums2)\n",
      "15.     if n1 > n2:\n",
      "16.       return self.findMedianSortedArrays(nums2, nums1)\n",
      "17. \n",
      "18.     l = 0\n",
      "19.     r = n1\n",
      "20. \n",
      "21.     while l <= r:\n",
      "22.       partition1 = (l + r) // 2\n",
      "23.       partition2 = (n1 + n2 + 1) // 2 - partition1\n",
      "24.       maxLeft1 = -2**31 if partition1 == 0 else nums1[partition1 - 1]\n",
      "25.       maxLeft2 = -2**31 if partition2 == 0 else nums2[partition2 - 1]\n",
      "26.       minRight1 = 2**31 - 1 if partition1 == n1 else nums1[partition1]\n",
      "27.       minRight2 = 2**31 - 1 if partition2 == n2 else nums2[partition2]\n",
      "28.       if maxLeft1 <= minRight2 and maxLeft2 <= minRight1:\n",
      "29.         if (n1 + n2) % 2 == 0:\n",
      "30.           return (max(maxLeft1, maxLeft2) + min(minRight1, minRight2)) * 0.5\n",
      "31.         else:\n",
      "32.           return max(maxLeft1, maxLeft2)\n",
      "33.       elif maxLeft1 > minRight2:\n",
      "34.         r = partition1 - 1\n",
      "35.       else:\n",
      "36.         l = partition1 + 1\n",
      "37. \n",
      "\n",
      "----\n",
      "\n",
      "Function description for 'findMedianSortedArrays':\n",
      "----\n",
      "Given two sorted arrays `nums1` and `nums2` of size `m` and `n` respectively,\n",
      "return the median of the two sorted arrays.\n",
      "\n",
      "The overall run time complexity should be `O(log (m+n))`.\n",
      "\n",
      "\n",
      "----\n",
      "\n",
      "Your test case must cover the following execution path in function findMedianSortedArrays. The path is a sequence of branch conditions. When executing your test case, each branch condition in the target execution path must be satisfied sequentially.\n",
      "Target execution path: 'Line 21: (l <= r)' -> 'Line 28: NOT (maxLeft1 <= minRight2 and maxLeft2 <= minRight1)' -> 'Line 33: NOT (maxLeft1 > minRight2)' -> 'Line 35: ' -> 'Line 21: (l <= r)' -> 'Line 28: (maxLeft1 <= minRight2 and maxLeft2 <= minRight1)' -> 'Line 29: NOT ((n1 + n2) % 2 == 0)' -> 'Line 31: '\n",
      "----\n",
      "Your test method should begin with:\n",
      "def test_findMedianSortedArrays():\n",
      "    solution=Solution()\n",
      "\n"
     ]
    }
   ],
   "source": [
    "print(list(initial_prompts.values())[0])"
   ]
  },
  {
   "cell_type": "code",
   "execution_count": 35,
   "id": "2a094f57",
   "metadata": {},
   "outputs": [],
   "source": [
    "with open('pathcov.json', 'w') as f:\n",
    "    json.dump(initial_prompts, f, indent=2)"
   ]
  }
 ],
 "metadata": {
  "kernelspec": {
   "display_name": "data",
   "language": "python",
   "name": "python3"
  },
  "language_info": {
   "codemirror_mode": {
    "name": "ipython",
    "version": 3
   },
   "file_extension": ".py",
   "mimetype": "text/x-python",
   "name": "python",
   "nbconvert_exporter": "python",
   "pygments_lexer": "ipython3",
   "version": "3.11.5"
  }
 },
 "nbformat": 4,
 "nbformat_minor": 5
}
